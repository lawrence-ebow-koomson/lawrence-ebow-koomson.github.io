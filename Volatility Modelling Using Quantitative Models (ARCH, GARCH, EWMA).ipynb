{
 "cells": [
  {
   "cell_type": "code",
   "execution_count": 1,
   "id": "5225afc8",
   "metadata": {},
   "outputs": [],
   "source": [
    "# Import all necessary libraries\n",
    "\n",
    "import numpy as np\n",
    "import pandas as pd\n",
    "import yfinance as yf\n",
    "import matplotlib.pyplot as plt\n",
    "import seaborn as sns\n",
    "import plotly.express as px"
   ]
  },
  {
   "cell_type": "code",
   "execution_count": 2,
   "id": "829a6858",
   "metadata": {},
   "outputs": [
    {
     "name": "stdout",
     "output_type": "stream",
     "text": [
      "YF.download() has changed argument auto_adjust default to True\n"
     ]
    },
    {
     "name": "stderr",
     "output_type": "stream",
     "text": [
      "[*********************100%***********************]  1 of 1 completed\n"
     ]
    },
    {
     "data": {
      "text/html": [
       "<div>\n",
       "<style scoped>\n",
       "    .dataframe tbody tr th:only-of-type {\n",
       "        vertical-align: middle;\n",
       "    }\n",
       "\n",
       "    .dataframe tbody tr th {\n",
       "        vertical-align: top;\n",
       "    }\n",
       "\n",
       "    .dataframe thead th {\n",
       "        text-align: right;\n",
       "    }\n",
       "</style>\n",
       "<table border=\"1\" class=\"dataframe\">\n",
       "  <thead>\n",
       "    <tr style=\"text-align: right;\">\n",
       "      <th>Ticker</th>\n",
       "      <th>JPM</th>\n",
       "    </tr>\n",
       "    <tr>\n",
       "      <th>Date</th>\n",
       "      <th></th>\n",
       "    </tr>\n",
       "  </thead>\n",
       "  <tbody>\n",
       "    <tr>\n",
       "      <th>2022-01-03</th>\n",
       "      <td>146.995804</td>\n",
       "    </tr>\n",
       "    <tr>\n",
       "      <th>2022-01-04</th>\n",
       "      <td>152.568375</td>\n",
       "    </tr>\n",
       "    <tr>\n",
       "      <th>2022-01-05</th>\n",
       "      <td>149.779144</td>\n",
       "    </tr>\n",
       "    <tr>\n",
       "      <th>2022-01-06</th>\n",
       "      <td>151.370392</td>\n",
       "    </tr>\n",
       "    <tr>\n",
       "      <th>2022-01-07</th>\n",
       "      <td>152.870193</td>\n",
       "    </tr>\n",
       "    <tr>\n",
       "      <th>...</th>\n",
       "      <td>...</td>\n",
       "    </tr>\n",
       "    <tr>\n",
       "      <th>2024-12-24</th>\n",
       "      <td>239.589218</td>\n",
       "    </tr>\n",
       "    <tr>\n",
       "      <th>2024-12-26</th>\n",
       "      <td>240.409912</td>\n",
       "    </tr>\n",
       "    <tr>\n",
       "      <th>2024-12-27</th>\n",
       "      <td>238.462036</td>\n",
       "    </tr>\n",
       "    <tr>\n",
       "      <th>2024-12-30</th>\n",
       "      <td>236.632812</td>\n",
       "    </tr>\n",
       "    <tr>\n",
       "      <th>2024-12-31</th>\n",
       "      <td>237.018433</td>\n",
       "    </tr>\n",
       "  </tbody>\n",
       "</table>\n",
       "<p>753 rows × 1 columns</p>\n",
       "</div>"
      ],
      "text/plain": [
       "Ticker             JPM\n",
       "Date                  \n",
       "2022-01-03  146.995804\n",
       "2022-01-04  152.568375\n",
       "2022-01-05  149.779144\n",
       "2022-01-06  151.370392\n",
       "2022-01-07  152.870193\n",
       "...                ...\n",
       "2024-12-24  239.589218\n",
       "2024-12-26  240.409912\n",
       "2024-12-27  238.462036\n",
       "2024-12-30  236.632812\n",
       "2024-12-31  237.018433\n",
       "\n",
       "[753 rows x 1 columns]"
      ]
     },
     "execution_count": 2,
     "metadata": {},
     "output_type": "execute_result"
    }
   ],
   "source": [
    "# Import data from Yahoo Finance\n",
    "\n",
    "symbol = 'JPM' # Example: JPMorgan Chase & Co.\n",
    "df = yf.download(symbol, start='2022-01-01', end='2025-01-01')['Close']\n",
    "df"
   ]
  },
  {
   "cell_type": "code",
   "execution_count": 3,
   "id": "5c6f5788",
   "metadata": {},
   "outputs": [
    {
     "name": "stdout",
     "output_type": "stream",
     "text": [
      "<class 'pandas.core.frame.DataFrame'>\n",
      "DatetimeIndex: 753 entries, 2022-01-03 to 2024-12-31\n",
      "Data columns (total 1 columns):\n",
      " #   Column  Non-Null Count  Dtype  \n",
      "---  ------  --------------  -----  \n",
      " 0   JPM     753 non-null    float64\n",
      "dtypes: float64(1)\n",
      "memory usage: 11.8 KB\n"
     ]
    }
   ],
   "source": [
    "df.info()"
   ]
  },
  {
   "cell_type": "code",
   "execution_count": 4,
   "id": "d6c2b18d",
   "metadata": {},
   "outputs": [
    {
     "data": {
      "text/plain": [
       "Ticker\n",
       "JPM    0\n",
       "dtype: int64"
      ]
     },
     "execution_count": 4,
     "metadata": {},
     "output_type": "execute_result"
    }
   ],
   "source": [
    "df.isnull().sum()  "
   ]
  },
  {
   "cell_type": "markdown",
   "id": "7fa343ec",
   "metadata": {},
   "source": [
    "#### ARCH Model"
   ]
  },
  {
   "cell_type": "code",
   "execution_count": 5,
   "id": "dd1255b0",
   "metadata": {},
   "outputs": [],
   "source": [
    "# Import ARCH library for volatility modeling\n",
    "\n",
    "from arch import arch_model"
   ]
  },
  {
   "cell_type": "code",
   "execution_count": 6,
   "id": "9e3cea29",
   "metadata": {},
   "outputs": [
    {
     "data": {
      "text/html": [
       "<div>\n",
       "<style scoped>\n",
       "    .dataframe tbody tr th:only-of-type {\n",
       "        vertical-align: middle;\n",
       "    }\n",
       "\n",
       "    .dataframe tbody tr th {\n",
       "        vertical-align: top;\n",
       "    }\n",
       "\n",
       "    .dataframe thead th {\n",
       "        text-align: right;\n",
       "    }\n",
       "</style>\n",
       "<table border=\"1\" class=\"dataframe\">\n",
       "  <thead>\n",
       "    <tr style=\"text-align: right;\">\n",
       "      <th>Ticker</th>\n",
       "      <th>JPM</th>\n",
       "    </tr>\n",
       "    <tr>\n",
       "      <th>Date</th>\n",
       "      <th></th>\n",
       "    </tr>\n",
       "  </thead>\n",
       "  <tbody>\n",
       "    <tr>\n",
       "      <th>2022-01-04</th>\n",
       "      <td>3.790973</td>\n",
       "    </tr>\n",
       "    <tr>\n",
       "      <th>2022-01-05</th>\n",
       "      <td>-1.828184</td>\n",
       "    </tr>\n",
       "    <tr>\n",
       "      <th>2022-01-06</th>\n",
       "      <td>1.062396</td>\n",
       "    </tr>\n",
       "    <tr>\n",
       "      <th>2022-01-07</th>\n",
       "      <td>0.990816</td>\n",
       "    </tr>\n",
       "    <tr>\n",
       "      <th>2022-01-10</th>\n",
       "      <td>0.095713</td>\n",
       "    </tr>\n",
       "    <tr>\n",
       "      <th>...</th>\n",
       "      <td>...</td>\n",
       "    </tr>\n",
       "    <tr>\n",
       "      <th>2024-12-24</th>\n",
       "      <td>1.644361</td>\n",
       "    </tr>\n",
       "    <tr>\n",
       "      <th>2024-12-26</th>\n",
       "      <td>0.342542</td>\n",
       "    </tr>\n",
       "    <tr>\n",
       "      <th>2024-12-27</th>\n",
       "      <td>-0.810231</td>\n",
       "    </tr>\n",
       "    <tr>\n",
       "      <th>2024-12-30</th>\n",
       "      <td>-0.767092</td>\n",
       "    </tr>\n",
       "    <tr>\n",
       "      <th>2024-12-31</th>\n",
       "      <td>0.162961</td>\n",
       "    </tr>\n",
       "  </tbody>\n",
       "</table>\n",
       "<p>752 rows × 1 columns</p>\n",
       "</div>"
      ],
      "text/plain": [
       "Ticker           JPM\n",
       "Date                \n",
       "2022-01-04  3.790973\n",
       "2022-01-05 -1.828184\n",
       "2022-01-06  1.062396\n",
       "2022-01-07  0.990816\n",
       "2022-01-10  0.095713\n",
       "...              ...\n",
       "2024-12-24  1.644361\n",
       "2024-12-26  0.342542\n",
       "2024-12-27 -0.810231\n",
       "2024-12-30 -0.767092\n",
       "2024-12-31  0.162961\n",
       "\n",
       "[752 rows x 1 columns]"
      ]
     },
     "execution_count": 6,
     "metadata": {},
     "output_type": "execute_result"
    }
   ],
   "source": [
    "# Calculate daily returns\n",
    "\n",
    "returns = df.pct_change().dropna()*100\n",
    "returns"
   ]
  },
  {
   "cell_type": "code",
   "execution_count": 7,
   "id": "4615ac80",
   "metadata": {},
   "outputs": [
    {
     "name": "stdout",
     "output_type": "stream",
     "text": [
      "                      Constant Mean - ARCH Model Results                      \n",
      "==============================================================================\n",
      "Dep. Variable:                    JPM   R-squared:                       0.000\n",
      "Mean Model:             Constant Mean   Adj. R-squared:                  0.000\n",
      "Vol Model:                       ARCH   Log-Likelihood:               -1400.95\n",
      "Distribution:                  Normal   AIC:                           2807.90\n",
      "Method:            Maximum Likelihood   BIC:                           2821.76\n",
      "                                        No. Observations:                  752\n",
      "Date:                Thu, Jun 05 2025   Df Residuals:                      751\n",
      "Time:                        19:21:44   Df Model:                            1\n",
      "                                 Mean Model                                \n",
      "===========================================================================\n",
      "                 coef    std err          t      P>|t|     95.0% Conf. Int.\n",
      "---------------------------------------------------------------------------\n",
      "mu             0.0978  5.518e-02      1.772  7.646e-02 [-1.039e-02,  0.206]\n",
      "                              Volatility Model                             \n",
      "===========================================================================\n",
      "                 coef    std err          t      P>|t|     95.0% Conf. Int.\n",
      "---------------------------------------------------------------------------\n",
      "omega          2.1877      0.332      6.584  4.591e-11    [  1.536,  2.839]\n",
      "alpha[1]       0.1224  7.467e-02      1.639      0.101 [-2.394e-02,  0.269]\n",
      "===========================================================================\n",
      "\n",
      "Covariance estimator: robust\n"
     ]
    }
   ],
   "source": [
    "# Create, fit and train the ARCH model\n",
    "model = arch_model(returns, vol='ARCH', p=1)\n",
    "results = model.fit(disp='off')\n",
    "\n",
    "# Print the summary of the model\n",
    "print(results.summary())"
   ]
  },
  {
   "cell_type": "code",
   "execution_count": 8,
   "id": "182243aa",
   "metadata": {},
   "outputs": [
    {
     "data": {
      "text/html": [
       "<div>\n",
       "<style scoped>\n",
       "    .dataframe tbody tr th:only-of-type {\n",
       "        vertical-align: middle;\n",
       "    }\n",
       "\n",
       "    .dataframe tbody tr th {\n",
       "        vertical-align: top;\n",
       "    }\n",
       "\n",
       "    .dataframe thead th {\n",
       "        text-align: right;\n",
       "    }\n",
       "</style>\n",
       "<table border=\"1\" class=\"dataframe\">\n",
       "  <thead>\n",
       "    <tr style=\"text-align: right;\">\n",
       "      <th></th>\n",
       "      <th>h.1</th>\n",
       "      <th>h.2</th>\n",
       "      <th>h.3</th>\n",
       "      <th>h.4</th>\n",
       "      <th>h.5</th>\n",
       "    </tr>\n",
       "    <tr>\n",
       "      <th>Date</th>\n",
       "      <th></th>\n",
       "      <th></th>\n",
       "      <th></th>\n",
       "      <th></th>\n",
       "      <th></th>\n",
       "    </tr>\n",
       "  </thead>\n",
       "  <tbody>\n",
       "    <tr>\n",
       "      <th>2024-12-31</th>\n",
       "      <td>1.479267</td>\n",
       "      <td>1.567022</td>\n",
       "      <td>1.577429</td>\n",
       "      <td>1.578698</td>\n",
       "      <td>1.578853</td>\n",
       "    </tr>\n",
       "  </tbody>\n",
       "</table>\n",
       "</div>"
      ],
      "text/plain": [
       "                 h.1       h.2       h.3       h.4       h.5\n",
       "Date                                                        \n",
       "2024-12-31  1.479267  1.567022  1.577429  1.578698  1.578853"
      ]
     },
     "execution_count": 8,
     "metadata": {},
     "output_type": "execute_result"
    }
   ],
   "source": [
    "# Forecast volatility for the next 5 days\n",
    "\n",
    "forecast = results.forecast(horizon=5)\n",
    "predicted_volatility = forecast.variance**0.5\n",
    "predicted_volatility"
   ]
  },
  {
   "cell_type": "code",
   "execution_count": 9,
   "id": "69cb1d1b",
   "metadata": {},
   "outputs": [
    {
     "name": "stderr",
     "output_type": "stream",
     "text": [
      "[*********************100%***********************]  1 of 1 completed"
     ]
    },
    {
     "name": "stdout",
     "output_type": "stream",
     "text": [
      "Ticker             JPM\n",
      "Date                  \n",
      "2024-12-31  237.018433\n",
      "2025-01-02  237.305161\n",
      "2025-01-03  240.548340\n",
      "2025-01-06  239.375565\n",
      "2025-01-07  241.681351\n",
      "2025-01-08  241.641602\n"
     ]
    },
    {
     "name": "stderr",
     "output_type": "stream",
     "text": [
      "\n"
     ]
    }
   ],
   "source": [
    "# Get data and calculate realized volatility\n",
    "\n",
    "last_date = pd.to_datetime('2024-12-31')\n",
    "start_date = pd.to_datetime('2024-12-31')\n",
    "end_date = pd.to_datetime('2025-01-09') # Buffer for weekends and holidays\n",
    "\n",
    "realized_data = yf.download(symbol, start=start_date, end=end_date)['Close']\n",
    "print(realized_data)"
   ]
  },
  {
   "cell_type": "code",
   "execution_count": 10,
   "id": "2e527e78",
   "metadata": {},
   "outputs": [
    {
     "name": "stdout",
     "output_type": "stream",
     "text": [
      "Ticker           JPM\n",
      "Date                \n",
      "2025-01-02  0.120973\n",
      "2025-01-03  1.366670\n",
      "2025-01-06 -0.487542\n",
      "2025-01-07  0.963250\n",
      "2025-01-08 -0.016447\n"
     ]
    }
   ],
   "source": [
    "# Calculate Realized Returns\n",
    "\n",
    "realized_returns = realized_data.pct_change().dropna() * 100\n",
    "print(realized_returns)"
   ]
  },
  {
   "cell_type": "code",
   "execution_count": 11,
   "id": "d3976630",
   "metadata": {},
   "outputs": [
    {
     "name": "stdout",
     "output_type": "stream",
     "text": [
      "Ticker\n",
      "JPM    1.69195\n",
      "dtype: float64\n"
     ]
    }
   ],
   "source": [
    "# Calculate Realized Volatility\n",
    "\n",
    "realized_volatility = realized_returns.std()*np.sqrt(5)  # Annualized volatility\n",
    "print(realized_volatility)"
   ]
  },
  {
   "cell_type": "code",
   "execution_count": 12,
   "id": "7781c578",
   "metadata": {},
   "outputs": [
    {
     "name": "stdout",
     "output_type": "stream",
     "text": [
      "1.5562537932154534\n"
     ]
    }
   ],
   "source": [
    "# Calculate Average of Predicted Volatility\n",
    "average_predicted_volatility = predicted_volatility.values.mean()\n",
    "print(average_predicted_volatility)"
   ]
  },
  {
   "cell_type": "code",
   "execution_count": 13,
   "id": "c6785893",
   "metadata": {},
   "outputs": [
    {
     "name": "stdout",
     "output_type": "stream",
     "text": [
      "ARCH Model Predicted Volatility: 1.5562537932154534\n",
      "-----------------------------------------------------\n",
      "ARCH Model Realized Volatility: 1.6919495467179895\n"
     ]
    }
   ],
   "source": [
    "# Compare Realized and Predicted Volatility\n",
    "\n",
    "print('ARCH Model Predicted Volatility:', average_predicted_volatility)\n",
    "print(\"-----------------------------------------------------\")\n",
    "print('ARCH Model Realized Volatility:', realized_volatility.values[0])"
   ]
  },
  {
   "cell_type": "markdown",
   "id": "6a616567",
   "metadata": {},
   "source": [
    "#### GARCH Model"
   ]
  },
  {
   "cell_type": "code",
   "execution_count": 14,
   "id": "67f4660e",
   "metadata": {},
   "outputs": [
    {
     "data": {
      "text/html": [
       "<div>\n",
       "<style scoped>\n",
       "    .dataframe tbody tr th:only-of-type {\n",
       "        vertical-align: middle;\n",
       "    }\n",
       "\n",
       "    .dataframe tbody tr th {\n",
       "        vertical-align: top;\n",
       "    }\n",
       "\n",
       "    .dataframe thead th {\n",
       "        text-align: right;\n",
       "    }\n",
       "</style>\n",
       "<table border=\"1\" class=\"dataframe\">\n",
       "  <thead>\n",
       "    <tr style=\"text-align: right;\">\n",
       "      <th>Ticker</th>\n",
       "      <th>JPM</th>\n",
       "    </tr>\n",
       "    <tr>\n",
       "      <th>Date</th>\n",
       "      <th></th>\n",
       "    </tr>\n",
       "  </thead>\n",
       "  <tbody>\n",
       "    <tr>\n",
       "      <th>2022-01-04</th>\n",
       "      <td>3.790973</td>\n",
       "    </tr>\n",
       "    <tr>\n",
       "      <th>2022-01-05</th>\n",
       "      <td>-1.828184</td>\n",
       "    </tr>\n",
       "    <tr>\n",
       "      <th>2022-01-06</th>\n",
       "      <td>1.062396</td>\n",
       "    </tr>\n",
       "    <tr>\n",
       "      <th>2022-01-07</th>\n",
       "      <td>0.990816</td>\n",
       "    </tr>\n",
       "    <tr>\n",
       "      <th>2022-01-10</th>\n",
       "      <td>0.095713</td>\n",
       "    </tr>\n",
       "  </tbody>\n",
       "</table>\n",
       "</div>"
      ],
      "text/plain": [
       "Ticker           JPM\n",
       "Date                \n",
       "2022-01-04  3.790973\n",
       "2022-01-05 -1.828184\n",
       "2022-01-06  1.062396\n",
       "2022-01-07  0.990816\n",
       "2022-01-10  0.095713"
      ]
     },
     "execution_count": 14,
     "metadata": {},
     "output_type": "execute_result"
    }
   ],
   "source": [
    "# Calculate daily returns\n",
    "\n",
    "returns = df.pct_change().dropna()*100\n",
    "returns.head()"
   ]
  },
  {
   "cell_type": "code",
   "execution_count": 15,
   "id": "f665a8f5",
   "metadata": {},
   "outputs": [
    {
     "name": "stdout",
     "output_type": "stream",
     "text": [
      "                     Constant Mean - GARCH Model Results                      \n",
      "==============================================================================\n",
      "Dep. Variable:                    JPM   R-squared:                       0.000\n",
      "Mean Model:             Constant Mean   Adj. R-squared:                  0.000\n",
      "Vol Model:                      GARCH   Log-Likelihood:               -1387.47\n",
      "Distribution:                  Normal   AIC:                           2782.94\n",
      "Method:            Maximum Likelihood   BIC:                           2801.43\n",
      "                                        No. Observations:                  752\n",
      "Date:                Thu, Jun 05 2025   Df Residuals:                      751\n",
      "Time:                        19:21:44   Df Model:                            1\n",
      "                                Mean Model                                \n",
      "==========================================================================\n",
      "                 coef    std err          t      P>|t|    95.0% Conf. Int.\n",
      "--------------------------------------------------------------------------\n",
      "mu             0.1146  5.754e-02      1.991  4.648e-02 [1.786e-03,  0.227]\n",
      "                               Volatility Model                              \n",
      "=============================================================================\n",
      "                 coef    std err          t      P>|t|       95.0% Conf. Int.\n",
      "-----------------------------------------------------------------------------\n",
      "omega          0.0220  1.702e-02      1.294      0.196 [-1.134e-02,5.537e-02]\n",
      "alpha[1]       0.0165  1.112e-02      1.481      0.139 [-5.326e-03,3.827e-02]\n",
      "beta[1]        0.9737  1.217e-02     79.975      0.000      [  0.950,  0.998]\n",
      "=============================================================================\n",
      "\n",
      "Covariance estimator: robust\n"
     ]
    }
   ],
   "source": [
    "# Create, fit and train the GARCH model\n",
    "model = arch_model(returns, vol='GARCH', p=1, q=1)\n",
    "results = model.fit(disp='off')\n",
    "\n",
    "# Print the summary of the model\n",
    "print(results.summary())"
   ]
  },
  {
   "cell_type": "code",
   "execution_count": 16,
   "id": "4eaeb566",
   "metadata": {},
   "outputs": [
    {
     "data": {
      "text/html": [
       "<div>\n",
       "<style scoped>\n",
       "    .dataframe tbody tr th:only-of-type {\n",
       "        vertical-align: middle;\n",
       "    }\n",
       "\n",
       "    .dataframe tbody tr th {\n",
       "        vertical-align: top;\n",
       "    }\n",
       "\n",
       "    .dataframe thead th {\n",
       "        text-align: right;\n",
       "    }\n",
       "</style>\n",
       "<table border=\"1\" class=\"dataframe\">\n",
       "  <thead>\n",
       "    <tr style=\"text-align: right;\">\n",
       "      <th></th>\n",
       "      <th>h.1</th>\n",
       "      <th>h.2</th>\n",
       "      <th>h.3</th>\n",
       "      <th>h.4</th>\n",
       "      <th>h.5</th>\n",
       "    </tr>\n",
       "    <tr>\n",
       "      <th>Date</th>\n",
       "      <th></th>\n",
       "      <th></th>\n",
       "      <th></th>\n",
       "      <th></th>\n",
       "      <th></th>\n",
       "    </tr>\n",
       "  </thead>\n",
       "  <tbody>\n",
       "    <tr>\n",
       "      <th>2024-12-31</th>\n",
       "      <td>1.623483</td>\n",
       "      <td>1.622252</td>\n",
       "      <td>1.621032</td>\n",
       "      <td>1.619824</td>\n",
       "      <td>1.618626</td>\n",
       "    </tr>\n",
       "  </tbody>\n",
       "</table>\n",
       "</div>"
      ],
      "text/plain": [
       "                 h.1       h.2       h.3       h.4       h.5\n",
       "Date                                                        \n",
       "2024-12-31  1.623483  1.622252  1.621032  1.619824  1.618626"
      ]
     },
     "execution_count": 16,
     "metadata": {},
     "output_type": "execute_result"
    }
   ],
   "source": [
    "# Forecast volatility for the next 5 days\n",
    "\n",
    "forecast = results.forecast(horizon=5)\n",
    "predicted_volatility = forecast.variance**0.5\n",
    "predicted_volatility"
   ]
  },
  {
   "cell_type": "code",
   "execution_count": 17,
   "id": "7b858af7",
   "metadata": {},
   "outputs": [
    {
     "name": "stderr",
     "output_type": "stream",
     "text": [
      "[*********************100%***********************]  1 of 1 completed"
     ]
    },
    {
     "name": "stdout",
     "output_type": "stream",
     "text": [
      "Ticker             JPM\n",
      "Date                  \n",
      "2024-12-31  237.018433\n",
      "2025-01-02  237.305161\n",
      "2025-01-03  240.548340\n",
      "2025-01-06  239.375565\n",
      "2025-01-07  241.681351\n",
      "2025-01-08  241.641602\n"
     ]
    },
    {
     "name": "stderr",
     "output_type": "stream",
     "text": [
      "\n"
     ]
    }
   ],
   "source": [
    "# Get data and calculate realized volatility\n",
    "\n",
    "last_date = pd.to_datetime('2024-12-31')\n",
    "start_date = pd.to_datetime('2024-12-31')\n",
    "end_date = pd.to_datetime('2025-01-09') # Buffer for weekends and holidays\n",
    "\n",
    "realized_data = yf.download(symbol, start=start_date, end=end_date)['Close']\n",
    "print(realized_data)"
   ]
  },
  {
   "cell_type": "code",
   "execution_count": 18,
   "id": "6c53a9a0",
   "metadata": {},
   "outputs": [
    {
     "name": "stdout",
     "output_type": "stream",
     "text": [
      "Ticker           JPM\n",
      "Date                \n",
      "2025-01-02  0.120973\n",
      "2025-01-03  1.366670\n",
      "2025-01-06 -0.487542\n",
      "2025-01-07  0.963250\n",
      "2025-01-08 -0.016447\n"
     ]
    }
   ],
   "source": [
    "# Calculate Realized Returns\n",
    "\n",
    "realized_returns = realized_data.pct_change().dropna() * 100\n",
    "print(realized_returns)"
   ]
  },
  {
   "cell_type": "code",
   "execution_count": 19,
   "id": "24f9d3d7",
   "metadata": {},
   "outputs": [
    {
     "name": "stdout",
     "output_type": "stream",
     "text": [
      "Ticker\n",
      "JPM    1.69195\n",
      "dtype: float64\n"
     ]
    }
   ],
   "source": [
    "# Calculate Realized Volatility\n",
    "\n",
    "realized_volatility = realized_returns.std()*np.sqrt(5)  # Annualized volatility\n",
    "print(realized_volatility)"
   ]
  },
  {
   "cell_type": "code",
   "execution_count": 20,
   "id": "af16b9e4",
   "metadata": {},
   "outputs": [
    {
     "name": "stdout",
     "output_type": "stream",
     "text": [
      "1.6210435976782018\n"
     ]
    }
   ],
   "source": [
    "# Calculate Average of Predicted Volatility\n",
    "average_predicted_volatility = predicted_volatility.values.mean()\n",
    "print(average_predicted_volatility)"
   ]
  },
  {
   "cell_type": "code",
   "execution_count": 21,
   "id": "1cb63301",
   "metadata": {},
   "outputs": [
    {
     "name": "stdout",
     "output_type": "stream",
     "text": [
      "GARCH Model Predicted Volatility: 1.6210435976782018\n",
      "-----------------------------------------------------\n",
      "GARCH Model Realized Volatility: 1.6919495467179895\n"
     ]
    }
   ],
   "source": [
    "# Compare Realized and Predicted Volatility\n",
    "\n",
    "print('GARCH Model Predicted Volatility:', average_predicted_volatility)\n",
    "print(\"-----------------------------------------------------\")\n",
    "print('GARCH Model Realized Volatility:', realized_volatility.values[0])"
   ]
  },
  {
   "cell_type": "markdown",
   "id": "b82566e9",
   "metadata": {},
   "source": [
    "#### EWMA Model"
   ]
  },
  {
   "cell_type": "code",
   "execution_count": 22,
   "id": "995b53fb",
   "metadata": {},
   "outputs": [
    {
     "data": {
      "text/html": [
       "<div>\n",
       "<style scoped>\n",
       "    .dataframe tbody tr th:only-of-type {\n",
       "        vertical-align: middle;\n",
       "    }\n",
       "\n",
       "    .dataframe tbody tr th {\n",
       "        vertical-align: top;\n",
       "    }\n",
       "\n",
       "    .dataframe thead th {\n",
       "        text-align: right;\n",
       "    }\n",
       "</style>\n",
       "<table border=\"1\" class=\"dataframe\">\n",
       "  <thead>\n",
       "    <tr style=\"text-align: right;\">\n",
       "      <th>Ticker</th>\n",
       "      <th>JPM</th>\n",
       "    </tr>\n",
       "    <tr>\n",
       "      <th>Date</th>\n",
       "      <th></th>\n",
       "    </tr>\n",
       "  </thead>\n",
       "  <tbody>\n",
       "    <tr>\n",
       "      <th>2022-01-04</th>\n",
       "      <td>3.790973</td>\n",
       "    </tr>\n",
       "    <tr>\n",
       "      <th>2022-01-05</th>\n",
       "      <td>-1.828184</td>\n",
       "    </tr>\n",
       "    <tr>\n",
       "      <th>2022-01-06</th>\n",
       "      <td>1.062396</td>\n",
       "    </tr>\n",
       "    <tr>\n",
       "      <th>2022-01-07</th>\n",
       "      <td>0.990816</td>\n",
       "    </tr>\n",
       "    <tr>\n",
       "      <th>2022-01-10</th>\n",
       "      <td>0.095713</td>\n",
       "    </tr>\n",
       "  </tbody>\n",
       "</table>\n",
       "</div>"
      ],
      "text/plain": [
       "Ticker           JPM\n",
       "Date                \n",
       "2022-01-04  3.790973\n",
       "2022-01-05 -1.828184\n",
       "2022-01-06  1.062396\n",
       "2022-01-07  0.990816\n",
       "2022-01-10  0.095713"
      ]
     },
     "execution_count": 22,
     "metadata": {},
     "output_type": "execute_result"
    }
   ],
   "source": [
    "# Calculate daily returns\n",
    "\n",
    "returns = df.pct_change().dropna()*100\n",
    "returns.head()"
   ]
  },
  {
   "cell_type": "code",
   "execution_count": 23,
   "id": "ace63641",
   "metadata": {},
   "outputs": [
    {
     "name": "stdout",
     "output_type": "stream",
     "text": [
      "EWMA Model Predicted Volatility: 1.4840\n",
      "-----------------------------------------------------\n",
      "EWMA Model Realized Volatility: 1.5301\n"
     ]
    }
   ],
   "source": [
    "# Ensure returns is a Series (avoid future warnings)\n",
    "returns = returns.squeeze()\n",
    "\n",
    "# Define the lambda parameter for EWMA\n",
    "lambda_ = 0.94  # Commonly used value for financial time series\n",
    "\n",
    "# Initialize EWMA variance array\n",
    "ewma_var = np.zeros(len(returns))\n",
    "\n",
    "# Set initial variance using first 5 return values\n",
    "initial_variance = float(returns.iloc[:5].var(ddof=0))\n",
    "ewma_var[0] = initial_variance\n",
    "\n",
    "# Calculate EWMA variance recursively\n",
    "for t in range(1, len(returns)):\n",
    "    ewma_var[t] = lambda_ * ewma_var[t - 1] + (1 - lambda_) * float(returns.iloc[t - 1])**2\n",
    "\n",
    "# Convert variance to volatility\n",
    "ewma_volatility = np.sqrt(ewma_var)\n",
    "\n",
    "# Predict volatility for t+1\n",
    "next_volatility = np.sqrt(lambda_ * ewma_var[-1] + (1 - lambda_) * float(returns.iloc[-1])**2)\n",
    "\n",
    "# Output\n",
    "print(f\"EWMA Model Predicted Volatility: {next_volatility:.4f}\")\n",
    "print(\"-----------------------------------------------------\")\n",
    "print(f\"EWMA Model Realized Volatility: {ewma_volatility[-1]:.4f}\")\n",
    "\n"
   ]
  },
  {
   "cell_type": "code",
   "execution_count": null,
   "id": "7bdf7b14",
   "metadata": {},
   "outputs": [],
   "source": []
  }
 ],
 "metadata": {
  "kernelspec": {
   "display_name": "base",
   "language": "python",
   "name": "python3"
  },
  "language_info": {
   "codemirror_mode": {
    "name": "ipython",
    "version": 3
   },
   "file_extension": ".py",
   "mimetype": "text/x-python",
   "name": "python",
   "nbconvert_exporter": "python",
   "pygments_lexer": "ipython3",
   "version": "3.12.7"
  }
 },
 "nbformat": 4,
 "nbformat_minor": 5
}
